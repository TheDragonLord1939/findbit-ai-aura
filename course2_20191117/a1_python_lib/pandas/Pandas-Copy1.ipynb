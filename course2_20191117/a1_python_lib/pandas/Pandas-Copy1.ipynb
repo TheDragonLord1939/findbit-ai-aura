{
 "cells": [
  {
   "cell_type": "markdown",
   "metadata": {},
   "source": [
    "### 1 查询dataFrame"
   ]
  },
  {
   "cell_type": "code",
   "execution_count": 1,
   "metadata": {},
   "outputs": [
    {
     "name": "stdout",
     "output_type": "stream",
     "text": [
      "   w  x  y  z\n",
      "a  0  1  2  3\n",
      "b  4  5  6  7\n",
      "   w  x  y  z\n",
      "b  4  5  6  7\n",
      "<class 'pandas.core.frame.DataFrame'>\n"
     ]
    }
   ],
   "source": [
    "#!/usr/bin/python\n",
    "import numpy as np\n",
    "import pandas as pd\n",
    "from pandas import DataFrame\n",
    "data = DataFrame(np.arange(16).reshape(4,4),index=list('abcd'),columns=list('wxyz'))\n",
    "data['w']  #选择表格中的'w'列，使用类字典属性,返回的是Series类型\n",
    "data.w    #选择表格中的'w'列，使用点属性,返回的是Series类型\n",
    "data[['w']]  #选择表格中的'w'列，返回的是DataFrame类型\n",
    "data[['w','z']]  #选择表格中的'w'、'z'列\n",
    "\n",
    "print(data[0:2])  #返回第1行到第2行的所有行，前闭后开，包括前不包括后\n",
    "print(data[1:2])  #返回第2行，从0计，返回的是单行，通过有前后值的索引形式 #如果采用data[1]则报错\n",
    "print(type(data[0:2]))\n"
   ]
  },
  {
   "cell_type": "markdown",
   "metadata": {},
   "source": [
    "### 2 Dataframe setvalue实例 "
   ]
  },
  {
   "cell_type": "code",
   "execution_count": 2,
   "metadata": {},
   "outputs": [
    {
     "name": "stdout",
     "output_type": "stream",
     "text": [
      "                   A         B            C            D   F  G\n",
      "2013-01-01 -0.215056  0.920466     1.011975    -0.923199 NaN  1\n",
      "2013-01-02 -0.491504 -0.901304     1.123751    -0.864646 NaN  2\n",
      "2013-01-03  0.000000  1.167714  1111.000000  2222.000000 NaN  3\n",
      "2013-01-04 -2.020914  0.608046     0.866447     3.360491 NaN  4\n",
      "2013-01-05  0.000000 -0.597939    -1.535271     0.113829 NaN  5\n",
      "2013-01-06 -1.773507 -0.466574    -0.317386    -2.250248 NaN  6\n",
      "                   A         B            C            D   F  G      Col_sum\n",
      "2013-01-01 -0.215056  0.920466     1.011975    -0.923199 NaN  1     1.794187\n",
      "2013-01-02 -0.491504 -0.901304     1.123751    -0.864646 NaN  2     0.866297\n",
      "2013-01-03  0.000000  1.167714  1111.000000  2222.000000 NaN  3  3337.167714\n",
      "2013-01-04 -2.020914  0.608046     0.866447     3.360491 NaN  4     6.814070\n",
      "2013-01-05  0.000000 -0.597939    -1.535271     0.113829 NaN  5     2.980619\n",
      "2013-01-06 -1.773507 -0.466574    -0.317386    -2.250248 NaN  6     1.192285\n",
      "                            A         B            C            D    F     G  \\\n",
      "2013-01-01 00:00:00 -0.215056  0.920466     1.011975    -0.923199  NaN   1.0   \n",
      "2013-01-02 00:00:00 -0.491504 -0.901304     1.123751    -0.864646  NaN   2.0   \n",
      "2013-01-03 00:00:00  0.000000  1.167714  1111.000000  2222.000000  NaN   3.0   \n",
      "2013-01-04 00:00:00 -2.020914  0.608046     0.866447     3.360491  NaN   4.0   \n",
      "2013-01-05 00:00:00  0.000000 -0.597939    -1.535271     0.113829  NaN   5.0   \n",
      "2013-01-06 00:00:00 -1.773507 -0.466574    -0.317386    -2.250248  NaN   6.0   \n",
      "Row_sum             -4.500981  0.730410  1112.149516  2221.436228  0.0  21.0   \n",
      "\n",
      "                         Col_sum  \n",
      "2013-01-01 00:00:00     1.794187  \n",
      "2013-01-02 00:00:00     0.866297  \n",
      "2013-01-03 00:00:00  3337.167714  \n",
      "2013-01-04 00:00:00     6.814070  \n",
      "2013-01-05 00:00:00     2.980619  \n",
      "2013-01-06 00:00:00     1.192285  \n",
      "Row_sum              3350.815172  \n"
     ]
    }
   ],
   "source": [
    "#!/usr/bin/python\n",
    "# -*- coding: UTF-8 -*-\n",
    "\n",
    "\"\"\"\n",
    "Please note, this code is only for python 3+. If you are using python 2+, please modify the code accordingly.\n",
    "\"\"\"\n",
    "from __future__ import print_function\n",
    "import pandas as pd\n",
    "import numpy as np\n",
    "\n",
    "dates = pd.date_range('20130101', periods=6)\n",
    "df = pd.DataFrame(np.random.randn(6,4), index=dates, columns=['A', 'B', 'C', 'D'])\n",
    "\n",
    "df.iloc[2,2] = 1111\n",
    "df.loc['2013-01-03', 'D'] = 2222\n",
    "df.A[df.A>0] = 0\n",
    "df['F'] = np.nan\n",
    "df['G']  = pd.Series([1,2,3,4,5,6], index=pd.date_range('20130101', periods=6))\n",
    "print(df)\n",
    "\n",
    "#计算各列数据总和并作为新列添加到末尾 x[0]\n",
    "df['Col_sum'] = df.apply(lambda x: x.sum(), axis=1)\n",
    "print(df)\n",
    "#计算各行数据总和并作为新行添加到末尾\n",
    "df.loc['Row_sum'] = df.apply(lambda x: x.sum())\n",
    "print(df)"
   ]
  },
  {
   "cell_type": "markdown",
   "metadata": {},
   "source": []
  },
  {
   "cell_type": "markdown",
   "metadata": {},
   "source": [
    "### 3 设置空值\n"
   ]
  },
  {
   "cell_type": "code",
   "execution_count": 3,
   "metadata": {},
   "outputs": [
    {
     "name": "stdout",
     "output_type": "stream",
     "text": [
      "             A     B     C   D\n",
      "2013-01-01   0   NaN   2.0   3\n",
      "2013-01-02   4   5.0   NaN   7\n",
      "2013-01-03   8   9.0  10.0  11\n",
      "2013-01-04  12  13.0  14.0  15\n",
      "2013-01-05  16  17.0  18.0  19\n",
      "2013-01-06  20  21.0  22.0  23\n",
      "             A     B     C   D\n",
      "2013-01-03   8   9.0  10.0  11\n",
      "2013-01-04  12  13.0  14.0  15\n",
      "2013-01-05  16  17.0  18.0  19\n",
      "2013-01-06  20  21.0  22.0  23\n",
      "             A     B     C   D\n",
      "2013-01-01   0   0.0   2.0   3\n",
      "2013-01-02   4   5.0   0.0   7\n",
      "2013-01-03   8   9.0  10.0  11\n",
      "2013-01-04  12  13.0  14.0  15\n",
      "2013-01-05  16  17.0  18.0  19\n",
      "2013-01-06  20  21.0  22.0  23\n",
      "                A      B      C      D\n",
      "2013-01-01  False   True  False  False\n",
      "2013-01-02  False  False   True  False\n",
      "2013-01-03  False  False  False  False\n",
      "2013-01-04  False  False  False  False\n",
      "2013-01-05  False  False  False  False\n",
      "2013-01-06  False  False  False  False\n"
     ]
    }
   ],
   "source": [
    "#!/usr/bin/python\n",
    "# -*- coding: UTF-8 -*-\n",
    "\n",
    "\"\"\"\n",
    "Please note, this code is only for python 3+. If you are using python 2+, please modify the code accordingly.\n",
    "\"\"\"\n",
    "from __future__ import print_function\n",
    "import pandas as pd\n",
    "import numpy as np\n",
    "\n",
    "dates = pd.date_range('20130101', periods=6)\n",
    "df = pd.DataFrame(np.arange(24).reshape((6,4)), index=dates, columns=['A', 'B', 'C', 'D'])\n",
    "\n",
    "df.iloc[0,1] = np.nan\n",
    "df.iloc[1,2] = np.nan\n",
    "print(df)\n",
    "print(df.dropna())   # dropna默认丢弃任何含有缺失的行：\n",
    "print(df.fillna(value=0))\n",
    "print(pd.isnull(df))"
   ]
  },
  {
   "cell_type": "markdown",
   "metadata": {},
   "source": [
    "### 5 Concat使用"
   ]
  },
  {
   "cell_type": "code",
   "execution_count": 9,
   "metadata": {},
   "outputs": [
    {
     "name": "stdout",
     "output_type": "stream",
     "text": [
      "     a    b    c    d\n",
      "0  0.0  0.0  0.0  0.0\n",
      "1  0.0  0.0  0.0  0.0\n",
      "2  0.0  0.0  0.0  0.0\n",
      "     a    b    c    d\n",
      "0  1.0  1.0  1.0  1.0\n",
      "1  1.0  1.0  1.0  1.0\n",
      "2  1.0  1.0  1.0  1.0\n",
      "     a    b    c    d\n",
      "0  2.0  2.0  2.0  2.0\n",
      "1  2.0  2.0  2.0  2.0\n",
      "2  2.0  2.0  2.0  2.0\n",
      "     a    b    c    d\n",
      "0  0.0  0.0  0.0  0.0\n",
      "1  0.0  0.0  0.0  0.0\n",
      "2  0.0  0.0  0.0  0.0\n",
      "3  1.0  1.0  1.0  1.0\n",
      "4  1.0  1.0  1.0  1.0\n",
      "5  1.0  1.0  1.0  1.0\n",
      "6  2.0  2.0  2.0  2.0\n",
      "7  2.0  2.0  2.0  2.0\n",
      "8  2.0  2.0  2.0  2.0\n"
     ]
    }
   ],
   "source": [
    "#!/usr/bin/python\n",
    "# -*- coding: UTF-8 -*-\n",
    "\n",
    "\"\"\"\n",
    "Please note, this code is only for python 3+. If you are using python 2+, please modify the code accordingly.\n",
    "\"\"\"\n",
    "from __future__ import print_function\n",
    "import pandas as pd\n",
    "import numpy as np\n",
    "\n",
    "# concatenating\n",
    "# ignore index\n",
    "df1 = pd.DataFrame(np.ones((3,4))*0, columns=['a','b','c','d'])\n",
    "print(df1)\n",
    "df2 = pd.DataFrame(np.ones((3,4))*1, columns=['a','b','c','d'])\n",
    "print(df2)\n",
    "df3 = pd.DataFrame(np.ones((3,4))*2, columns=['a','b','c','d'])\n",
    "print(df3)\n",
    "res = pd.concat([df1, df2, df3], axis=0, ignore_index=True)\n",
    "print(res)"
   ]
  },
  {
   "cell_type": "markdown",
   "metadata": {},
   "source": [
    "### 6 Merge操作"
   ]
  },
  {
   "cell_type": "code",
   "execution_count": 10,
   "metadata": {},
   "outputs": [
    {
     "name": "stdout",
     "output_type": "stream",
     "text": [
      "    A   B key\n",
      "0  A0  B0  K0\n",
      "1  A1  B1  K1\n",
      "2  A2  B2  K2\n",
      "3  A3  B3  K3\n",
      "    C   D key\n",
      "0  C0  D0  K0\n",
      "1  C1  D1  K1\n",
      "2  C2  D2  K2\n",
      "3  C3  D3  K3\n",
      "    A   B key   C   D\n",
      "0  A0  B0  K0  C0  D0\n",
      "1  A1  B1  K1  C1  D1\n",
      "2  A2  B2  K2  C2  D2\n",
      "3  A3  B3  K3  C3  D3\n",
      "    A   B key1 key2\n",
      "0  A0  B0   K0   K0\n",
      "1  A1  B1   K0   K1\n",
      "2  A2  B2   K1   K0\n",
      "3  A3  B3   K2   K1\n",
      "    C   D key1 key2\n",
      "0  C0  D0   K0   K0\n",
      "1  C1  D1   K1   K0\n",
      "2  C2  D2   K1   K0\n",
      "3  C3  D3   K2   K0\n",
      "test inner join\n",
      "    A   B key1 key2   C   D\n",
      "0  A0  B0   K0   K0  C0  D0\n",
      "1  A2  B2   K1   K0  C1  D1\n",
      "2  A2  B2   K1   K0  C2  D2\n",
      "test left join\n",
      "    A   B key1 key2    C    D\n",
      "0  A0  B0   K0   K0   C0   D0\n",
      "1  A1  B1   K0   K1  NaN  NaN\n",
      "2  A2  B2   K1   K0   C1   D1\n",
      "3  A2  B2   K1   K0   C2   D2\n",
      "4  A3  B3   K2   K1  NaN  NaN\n"
     ]
    }
   ],
   "source": [
    "#!/usr/bin/python\n",
    "# -*- coding: UTF-8 -*-\n",
    "\"\"\"\n",
    "Please note, this code is only for python 3+. If you are using python 2+, please modify the code accordingly.\n",
    "\"\"\"\n",
    "from __future__ import print_function\n",
    "import pandas as pd\n",
    "\n",
    "# merging two df by key/keys. (may be used in database)\n",
    "# simple example\n",
    "left = pd.DataFrame({'key': ['K0', 'K1', 'K2', 'K3'],\n",
    "                                  'A': ['A0', 'A1', 'A2', 'A3'],\n",
    "                                  'B': ['B0', 'B1', 'B2', 'B3']})\n",
    "right = pd.DataFrame({'key': ['K0', 'K1', 'K2', 'K3'],\n",
    "                                    'C': ['C0', 'C1', 'C2', 'C3'],\n",
    "                                    'D': ['D0', 'D1', 'D2', 'D3']})\n",
    "print(left)\n",
    "print(right)\n",
    "res = pd.merge(left, right, on='key')\n",
    "print(res)\n",
    "\n",
    "# consider two keys\n",
    "left = pd.DataFrame({'key1': ['K0', 'K0', 'K1', 'K2'],\n",
    "                             'key2': ['K0', 'K1', 'K0', 'K1'],\n",
    "                             'A': ['A0', 'A1', 'A2', 'A3'],\n",
    "                             'B': ['B0', 'B1', 'B2', 'B3']})\n",
    "right = pd.DataFrame({'key1': ['K0', 'K1', 'K1', 'K2'],\n",
    "                              'key2': ['K0', 'K0', 'K0', 'K0'],\n",
    "                              'C': ['C0', 'C1', 'C2', 'C3'],\n",
    "                              'D': ['D0', 'D1', 'D2', 'D3']})\n",
    "print(left)\n",
    "print(right)\n",
    "res = pd.merge(left, right, on=['key1', 'key2'], how='inner')  # default for how='inner'\n",
    "# how = ['left', 'right', 'outer', 'inner']\n",
    "print(\"test inner join\")\n",
    "print(res)\n",
    "\n",
    "res = pd.merge(left, right, on=['key1', 'key2'], how='left')\n",
    "print(\"test left join\")\n",
    "print(res)\n"
   ]
  },
  {
   "cell_type": "markdown",
   "metadata": {},
   "source": [
    "### 7 Plot操作"
   ]
  },
  {
   "cell_type": "code",
   "execution_count": 7,
   "metadata": {},
   "outputs": [
    {
     "data": {
      "image/png": "[encoded data removed]",
      "text/plain": [
       "<Figure size 432x288 with 1 Axes>"
      ]
     },
     "metadata": {},
     "output_type": "display_data"
    },
    {
     "data": {
      "image/png": "[encoded data removed]",
      "text/plain": [
       "<Figure size 432x288 with 1 Axes>"
      ]
     },
     "metadata": {},
     "output_type": "display_data"
    }
   ],
   "source": [
    "%matplotlib inline\n",
    "#!/usr/bin/python\n",
    "# -*- coding: UTF-8 -*-\n",
    "\n",
    "\"\"\"\n",
    "Please note, this code is only for python 3+. If you are using python 2+, please modify the code accordingly.\n",
    "\"\"\"\n",
    "from __future__ import print_function\n",
    "import pandas as pd\n",
    "import numpy as np\n",
    "import matplotlib.pyplot as plt\n",
    "\n",
    "# plot data\n",
    "\n",
    "# Series\n",
    "data = pd.Series(np.random.randn(1000), index=np.arange(1000))\n",
    "data = data.cumsum()\n",
    "data.plot()\n",
    "\n",
    "# DataFrame\n",
    "data = pd.DataFrame(np.random.randn(1000, 4), index=np.arange(1000), columns=list(\"ABCD\"))\n",
    "data = data.cumsum()\n",
    "# plot methods:\n",
    "# 'bar', 'hist', 'box', 'kde', 'area', scatter', hexbin', 'pie'\n",
    "ax = data.plot.scatter(x='A', y='B', color='DarkBlue', label=\"Class 1\")\n",
    "data.plot.scatter(x='A', y='C', color='LightGreen', label='Class 2', ax=ax)\n",
    "\n",
    "plt.show()"
   ]
  },
  {
   "cell_type": "markdown",
   "metadata": {},
   "source": [
    "### 8 Pandas行列操作 "
   ]
  },
  {
   "cell_type": "code",
   "execution_count": 13,
   "metadata": {},
   "outputs": [
    {
     "name": "stdout",
     "output_type": "stream",
     "text": [
      "          A         B         C         D         E   Col_sum\n",
      "0 -0.802228  0.078995 -0.914603  0.859789 -2.117292 -2.895338\n",
      "1  0.125206  1.035971 -0.955500  0.858454 -0.587361  0.476770\n",
      "2 -0.521978 -0.029409 -0.558384  0.733577  0.906400  0.530207\n",
      "3  1.401862 -0.210466 -0.581983 -1.390007  0.485677 -0.294917\n",
      "                A         B         C         D         E   Col_sum\n",
      "0       -0.802228  0.078995 -0.914603  0.859789 -2.117292 -2.895338\n",
      "1        0.125206  1.035971 -0.955500  0.858454 -0.587361  0.476770\n",
      "2       -0.521978 -0.029409 -0.558384  0.733577  0.906400  0.530207\n",
      "3        1.401862 -0.210466 -0.581983 -1.390007  0.485677 -0.294917\n",
      "Row_sum  0.202862  0.875091 -3.010470  1.061812 -1.312575 -2.183279\n"
     ]
    }
   ],
   "source": [
    "#导入模块：\n",
    "\n",
    "from pandas import DataFrame\n",
    "import pandas as pd\n",
    "import numpy as np\n",
    "#生成DataFrame数据\n",
    "\n",
    "df = DataFrame(np.random.randn(4, 5), columns=['A', 'B', 'C', 'D', 'E'])\n",
    "#计算各列数据总和并作为新列添加到末尾\n",
    "df['Col_sum'] = df.apply(lambda x: x.sum(), axis=1) # x.sum()求每行中各列的和\n",
    "#df['Col_sum'] = df.apply(lambda x: x[0], axis=1) # x[0]代表第[0]列\n",
    "print(df)\n",
    "#计算各行数据总和并作为新行添加到末尾\n",
    "df.loc['Row_sum'] = df.apply(lambda x: x.sum()) # x.sum()求每列中各行的和\n",
    "#df.loc['Row_sum'] = df.apply(lambda x: x[0]) # x[0]代表第0行\n",
    "print(df)\n"
   ]
  },
  {
   "cell_type": "code",
   "execution_count": null,
   "metadata": {
    "collapsed": true
   },
   "outputs": [],
   "source": []
  }
 ],
 "metadata": {
  "anaconda-cloud": {},
  "kernelspec": {
   "display_name": "Python 3",
   "language": "python",
   "name": "python3"
  },
  "language_info": {
   "codemirror_mode": {
    "name": "ipython",
    "version": 3
   },
   "file_extension": ".py",
   "mimetype": "text/x-python",
   "name": "python",
   "nbconvert_exporter": "python",
   "pygments_lexer": "ipython3",
   "version": "3.6.9"
  }
 },
 "nbformat": 4,
 "nbformat_minor": 2
}
